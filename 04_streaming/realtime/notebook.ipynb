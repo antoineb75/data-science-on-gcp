{
 "cells": [
  {
   "cell_type": "code",
   "execution_count": null,
   "metadata": {},
   "outputs": [],
   "source": [
    "!{'gcloud config set project poc-dbs'}\n",
    "!{'pip install -r ../../requirements.txt'}"
   ]
  },
  {
   "cell_type": "code",
   "execution_count": 2,
   "metadata": {},
   "outputs": [],
   "source": [
    "import apache_beam as beam\n",
    "import logging\n",
    "import json\n",
    "import numpy as np\n",
    "\n",
    "DATETIME_FORMAT = '%Y-%m-%dT%H:%M:%S'"
   ]
  },
  {
   "cell_type": "code",
   "execution_count": 3,
   "metadata": {},
   "outputs": [],
   "source": [
    "def compute_stats(airport, events):\n",
    "    arrived = [event['ARR_DELAY'] for event in events if event['EVENT_TYPE'] == 'arrived']\n",
    "    avg_arr_delay = float(np.mean(arrived)) if len(arrived) > 0 else None\n",
    "\n",
    "    departed = [event['DEP_DELAY'] for event in events if event['EVENT_TYPE'] == 'departed']\n",
    "    avg_dep_delay = float(np.mean(departed)) if len(departed) > 0 else None\n",
    "\n",
    "    num_flights = len(events)\n",
    "    start_time = min([event['EVENT_TIME'] for event in events])\n",
    "    latest_time = max([event['EVENT_TIME'] for event in events])\n",
    "\n",
    "    return {\n",
    "        'AIRPORT': airport,\n",
    "        'AVG_ARR_DELAY': avg_arr_delay,\n",
    "        'AVG_DEP_DELAY': avg_dep_delay,\n",
    "        'NUM_FLIGHTS': num_flights,\n",
    "        'START_TIME': start_time,\n",
    "        'END_TIME': latest_time\n",
    "    }\n",
    "\n",
    "\n",
    "def by_airport(event):\n",
    "    if event['EVENT_TYPE'] == 'departed':\n",
    "        return event['ORIGIN'], event\n",
    "    else:\n",
    "        return event['DEST'], event"
   ]
  },
  {
   "cell_type": "code",
   "execution_count": 4,
   "metadata": {},
   "outputs": [],
   "source": [
    "project='poc-dbs'\n",
    "bucket='poc-dbs-dsongcp'\n",
    "region='europe-west4'\n",
    "\n",
    "argv = [\n",
    "    '--project={0}'.format(project),\n",
    "    '--job_name=ch04avgdelay',\n",
    "    '--streaming',\n",
    "    '--save_main_session',\n",
    "    '--staging_location=gs://{0}/flights/staging/'.format(bucket),\n",
    "    '--temp_location=gs://{0}/flights/temp/'.format(bucket),\n",
    "    '--autoscaling_algorithm=THROUGHPUT_BASED',\n",
    "    '--max_num_workers=8',\n",
    "    '--region={}'.format(region),\n",
    "    '--runner=DirectRunner'\n",
    "]\n"
   ]
  },
  {
   "cell_type": "code",
   "execution_count": null,
   "metadata": {},
   "outputs": [],
   "source": [
    "with beam.Pipeline(argv=argv) as pipeline:\n",
    "        events = {}\n",
    "\n",
    "        for event_name in ['arrived', 'departed']:\n",
    "            topic_name = \"projects/{}/topics/{}\".format(project, event_name)\n",
    "\n",
    "            events[event_name] = (pipeline\n",
    "                                  | 'read:{}'.format(event_name) >> beam.io.ReadFromPubSub(\n",
    "                                                topic=topic_name)\n",
    "                                  | 'parse:{}'.format(event_name) >> beam.Map(lambda s: json.loads(s))\n",
    "                                  )\n",
    "\n",
    "        all_events = (events['arrived'], events['departed']) | beam.Flatten()\n",
    "\n",
    "        stats = (all_events\n",
    "                 | 'byairport' >> beam.Map(by_airport)\n",
    "                 | 'window' >> beam.WindowInto(beam.window.SlidingWindows(60 * 60, 5 * 60))\n",
    "                 | 'group' >> beam.GroupByKey()\n",
    "                 | 'stats' >> beam.Map(lambda x: compute_stats(x[0], x[1]))\n",
    "                 | beam.Map(lambda x: print(x))\n",
    "        )\n",
    "\n",
    "\n",
    "        \"\"\"\n",
    "        stats_schema = ','.join(['AIRPORT:string,AVG_ARR_DELAY:float,AVG_DEP_DELAY:float',\n",
    "                                 'NUM_FLIGHTS:int64,START_TIME:timestamp,END_TIME:timestamp']\n",
    "                                 )\n",
    "        (stats\n",
    "         | 'bqout' >> beam.io.gcp.bigquery.WriteToBigQuery(\n",
    "                    table='dsongcp.streaming_delays', \n",
    "                    schema=stats_schema\n",
    "                )\n",
    "         )\"\"\""
   ]
  }
 ],
 "metadata": {
  "kernelspec": {
   "display_name": ".venv",
   "language": "python",
   "name": "python3"
  },
  "language_info": {
   "codemirror_mode": {
    "name": "ipython",
    "version": 3
   },
   "file_extension": ".py",
   "mimetype": "text/x-python",
   "name": "python",
   "nbconvert_exporter": "python",
   "pygments_lexer": "ipython3",
   "version": "3.9.2"
  }
 },
 "nbformat": 4,
 "nbformat_minor": 2
}
